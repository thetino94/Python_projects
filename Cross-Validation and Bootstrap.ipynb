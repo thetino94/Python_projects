{
 "cells": [
  {
   "cell_type": "markdown",
   "id": "71a595d7-85e2-4ee1-bfd3-7f51122c859d",
   "metadata": {},
   "source": [
    "## Cross-Validation and Bootstrap"
   ]
  },
  {
   "cell_type": "code",
   "execution_count": 1,
   "id": "c800b0dc-d997-43fc-b966-9dc90c596c6e",
   "metadata": {},
   "outputs": [],
   "source": [
    "import numpy as np\n",
    "import statsmodels.api as sm\n",
    "from ISLP import load_data\n",
    "from ISLP.models import (ModelSpec as MS, summarize, poly)\n",
    "from sklearn.model_selection import train_test_split"
   ]
  },
  {
   "cell_type": "code",
   "execution_count": 2,
   "id": "d7f2e8dd-b120-4182-9e64-88c42faa75d0",
   "metadata": {},
   "outputs": [],
   "source": [
    "from functools import partial\n",
    "from sklearn.model_selection import (cross_validate, KFold, ShuffleSplit)\n",
    "from sklearn.base import clone\n",
    "from ISLP.models import sklearn_sm"
   ]
  },
  {
   "cell_type": "markdown",
   "id": "4d960982-d1cd-48a1-9c7a-91b5ab471914",
   "metadata": {},
   "source": [
    "We load the Auto data and split into train and validation"
   ]
  },
  {
   "cell_type": "code",
   "execution_count": 3,
   "id": "1d71416f-658b-46a6-abc5-36fcd41094c3",
   "metadata": {},
   "outputs": [],
   "source": [
    "Auto = load_data('Auto')\n",
    "Auto_train, Auto_valid = train_test_split(Auto, test_size=196, random_state=0)"
   ]
  },
  {
   "cell_type": "markdown",
   "id": "d01e77d4-1d0e-43a2-8ccc-e9acfc7d8b09",
   "metadata": {},
   "source": [
    "We can compute a linear model and check its MSE"
   ]
  },
  {
   "cell_type": "code",
   "execution_count": 4,
   "id": "2b2b3d25-3bf5-46bd-a262-f128ca985d57",
   "metadata": {},
   "outputs": [
    {
     "data": {
      "text/html": [
       "<div>\n",
       "<style scoped>\n",
       "    .dataframe tbody tr th:only-of-type {\n",
       "        vertical-align: middle;\n",
       "    }\n",
       "\n",
       "    .dataframe tbody tr th {\n",
       "        vertical-align: top;\n",
       "    }\n",
       "\n",
       "    .dataframe thead th {\n",
       "        text-align: right;\n",
       "    }\n",
       "</style>\n",
       "<table border=\"1\" class=\"dataframe\">\n",
       "  <thead>\n",
       "    <tr style=\"text-align: right;\">\n",
       "      <th></th>\n",
       "      <th>coef</th>\n",
       "      <th>std err</th>\n",
       "      <th>t</th>\n",
       "      <th>P&gt;|t|</th>\n",
       "    </tr>\n",
       "  </thead>\n",
       "  <tbody>\n",
       "    <tr>\n",
       "      <th>intercept</th>\n",
       "      <td>39.9055</td>\n",
       "      <td>1.009</td>\n",
       "      <td>39.537</td>\n",
       "      <td>0.0</td>\n",
       "    </tr>\n",
       "    <tr>\n",
       "      <th>horsepower</th>\n",
       "      <td>-0.1563</td>\n",
       "      <td>0.009</td>\n",
       "      <td>-17.333</td>\n",
       "      <td>0.0</td>\n",
       "    </tr>\n",
       "  </tbody>\n",
       "</table>\n",
       "</div>"
      ],
      "text/plain": [
       "               coef  std err       t  P>|t|\n",
       "intercept   39.9055    1.009  39.537    0.0\n",
       "horsepower  -0.1563    0.009 -17.333    0.0"
      ]
     },
     "execution_count": 4,
     "metadata": {},
     "output_type": "execute_result"
    }
   ],
   "source": [
    "hp_mm = MS(['horsepower'])\n",
    "X_train = hp_mm.fit_transform(Auto_train)\n",
    "Y_train = Auto_train.mpg\n",
    "model = sm.OLS(Y_train, X_train)\n",
    "results = model.fit()\n",
    "summarize(results)"
   ]
  },
  {
   "cell_type": "code",
   "execution_count": 5,
   "id": "c0587ce9-e530-4eb3-acdd-3691d9bb75da",
   "metadata": {},
   "outputs": [
    {
     "data": {
      "text/plain": [
       "23.61661706966988"
      ]
     },
     "execution_count": 5,
     "metadata": {},
     "output_type": "execute_result"
    }
   ],
   "source": [
    "X_valid = hp_mm.transform(Auto_valid)\n",
    "Y_valid = Auto_valid.mpg\n",
    "valid_pred = results.predict(X_valid)\n",
    "np.mean((Y_valid - valid_pred)**2)"
   ]
  },
  {
   "cell_type": "markdown",
   "id": "a540bcf8-4a74-46ae-bc51-a5ca85526f2d",
   "metadata": {},
   "source": [
    "### Train-validation"
   ]
  },
  {
   "cell_type": "code",
   "execution_count": 6,
   "id": "973f9986-c019-4f53-a473-677dadc00e56",
   "metadata": {},
   "outputs": [],
   "source": [
    "#we difine a function that returns the MSE for a set of model, train and test samples\n",
    "def evalMSE(terms, response, train, test):\n",
    "    mm = MS(terms)\n",
    "    X_train = mm.fit_transform(train)\n",
    "    Y_train = train[response]\n",
    "    \n",
    "    X_test = mm.transform(test)\n",
    "    Y_test = test[response]\n",
    "    \n",
    "    results = sm.OLS(Y_train, X_train).fit()\n",
    "    test_pred = results.predict(X_test)\n",
    "    \n",
    "    return np.mean((Y_test - test_pred)**2)\n",
    "    "
   ]
  },
  {
   "cell_type": "code",
   "execution_count": 7,
   "id": "6a5e1d70-c290-4ed3-a2cd-6b5b19aa55ba",
   "metadata": {},
   "outputs": [
    {
     "data": {
      "text/plain": [
       "array([23.61661707, 18.76303135, 18.79694163])"
      ]
     },
     "execution_count": 7,
     "metadata": {},
     "output_type": "execute_result"
    }
   ],
   "source": [
    "#testing out new finction\n",
    "MSE = np.zeros(3)\n",
    "\n",
    "for idx, degree in enumerate(range(1,4)):\n",
    "    MSE[idx] = evalMSE([poly('horsepower',degree)], 'mpg', Auto_train, Auto_valid)\n",
    "\n",
    "MSE"
   ]
  },
  {
   "cell_type": "code",
   "execution_count": 8,
   "id": "38493409-4e37-4017-8ea4-5d18e379931b",
   "metadata": {},
   "outputs": [
    {
     "data": {
      "text/plain": [
       "array([20.75540796, 16.94510676, 16.97437833])"
      ]
     },
     "execution_count": 8,
     "metadata": {},
     "output_type": "execute_result"
    }
   ],
   "source": [
    "#if we set a new validation sample the results should change a bit\n",
    "Auto_train , Auto_valid = train_test_split(Auto, test_size=196, random_state=3)\n",
    "\n",
    "MSE = np.zeros(3)\n",
    "\n",
    "for idx, degree in enumerate(range(1,4)):\n",
    "    MSE[idx] = evalMSE([poly('horsepower',degree)], 'mpg', Auto_train, Auto_valid)\n",
    "\n",
    "MSE\n"
   ]
  },
  {
   "cell_type": "markdown",
   "id": "43a4d0ab-24ff-479b-b656-24a2b3993e03",
   "metadata": {},
   "source": [
    "Both results suggest that a quadratic model is more accurate than a linear one"
   ]
  },
  {
   "cell_type": "markdown",
   "id": "cad47307-e819-43db-95dd-467dcf07cdb5",
   "metadata": {},
   "source": [
    "### Cross-Validation"
   ]
  },
  {
   "cell_type": "markdown",
   "id": "a6109417-1a33-4275-a0a1-6b992ec3890f",
   "metadata": {},
   "source": [
    "Cross validations requires conneting output from different libraries, the wrapper sklearn_sm from ISLP allows us to use the cross-validation tools of sklearn with the models fit by statsmodels"
   ]
  },
  {
   "cell_type": "code",
   "execution_count": 9,
   "id": "b4fa8339-7fc1-4cd3-83c7-5f092abe706e",
   "metadata": {},
   "outputs": [
    {
     "data": {
      "text/plain": [
       "24.231513517929212"
      ]
     },
     "execution_count": 9,
     "metadata": {},
     "output_type": "execute_result"
    }
   ],
   "source": [
    "hp_model = sklearn_sm(sm.OLS, MS(['horsepower']))\n",
    "X, Y = Auto.drop(columns=['mpg']), Auto['mpg']\n",
    "cv_results = cross_validate(hp_model, X, Y, cv=Auto.shape[0]) # arguments are an apropiate object(that can be .fit() .predict()), an array of features X, a response Y, cv provides the number of folds\n",
    "cv_err = np.mean(cv_results['test_score'])\n",
    "cv_err"
   ]
  },
  {
   "cell_type": "markdown",
   "id": "27c880cc-5717-483f-835d-1ab332e2b891",
   "metadata": {},
   "source": [
    "We can again loop this for more complex polynomial models to se how they perform"
   ]
  },
  {
   "cell_type": "code",
   "execution_count": 10,
   "id": "52d46e1e-3743-48fd-a88b-5bbd7c1b7e1e",
   "metadata": {},
   "outputs": [
    {
     "data": {
      "text/plain": [
       "array([24.23151352, 19.24821312, 19.33498406, 19.42443031, 19.03320428])"
      ]
     },
     "execution_count": 10,
     "metadata": {},
     "output_type": "execute_result"
    }
   ],
   "source": [
    "cv_error = np.zeros(5)\n",
    "H = np.array(Auto['horsepower'])\n",
    "M = sklearn_sm(sm.OLS)\n",
    "\n",
    "for i, d in enumerate(range(1,6)):\n",
    "    X = np.power.outer(H,np.arange(d+1)) #outer() explained in next code box, it adds polynomial factors\n",
    "    M_CV = cross_validate(M,X,Y,cv=Auto.shape[0])\n",
    "    cv_error[i] = np.mean(M_CV['test_score'])\n",
    "\n",
    "cv_error    "
   ]
  },
  {
   "cell_type": "code",
   "execution_count": 11,
   "id": "cf87f135-d36b-4f11-80f9-c3691dec75bb",
   "metadata": {},
   "outputs": [
    {
     "data": {
      "text/plain": [
       "(array([[ 5,  7],\n",
       "        [ 7,  9],\n",
       "        [11, 13]]),\n",
       " array([[   9,   81],\n",
       "        [  25,  625],\n",
       "        [  81, 6561]]))"
      ]
     },
     "execution_count": 11,
     "metadata": {},
     "output_type": "execute_result"
    }
   ],
   "source": [
    "A = np.array([3,5,9])\n",
    "B = np.array([2,4])\n",
    "np.add.outer(A, B), np.power.outer(A,B) # applies the second argument to the first based on the fisrt method(add, min,power)"
   ]
  },
  {
   "cell_type": "markdown",
   "id": "e99c0124-d447-404d-8e2f-8e722be5cd71",
   "metadata": {},
   "source": [
    "We can also set a smaller K-fold "
   ]
  },
  {
   "cell_type": "code",
   "execution_count": 12,
   "id": "e26fc9ff-b0dd-46f7-a537-3d84aae93999",
   "metadata": {},
   "outputs": [
    {
     "data": {
      "text/plain": [
       "array([24.20766449, 19.18533142, 19.27626666, 19.47848404, 19.13722016])"
      ]
     },
     "execution_count": 12,
     "metadata": {},
     "output_type": "execute_result"
    }
   ],
   "source": [
    "cv_error = np.zeros(5)\n",
    "cv = KFold(n_splits=10, shuffle=True, random_state=0) #setting the random state ensures the same splits for each degree\n",
    "\n",
    "for i, d in enumerate(range(1,6)):\n",
    "    X = np.power.outer(H,np.arange(d+1))\n",
    "    M_CV = cross_validate(M,X,Y,cv=cv) # we set cv=cv here\n",
    "    cv_error[i] = np.mean(M_CV['test_score'])\n",
    "\n",
    "cv_error  "
   ]
  },
  {
   "cell_type": "markdown",
   "id": "964c0ae9-f4b6-4426-a036-adf48d6ffbd9",
   "metadata": {},
   "source": [
    "We observe similar results , smaller number of kfolds can make the run time much faster in certain ocations"
   ]
  },
  {
   "cell_type": "markdown",
   "id": "c3a04352-bf07-4c23-898b-d2515d2efb09",
   "metadata": {},
   "source": [
    "The cross_validate() function is very flexible and can take different spliting mechanisims not only Kfold"
   ]
  },
  {
   "cell_type": "code",
   "execution_count": 13,
   "id": "0804cb19-5304-4296-b74f-aecb08e33569",
   "metadata": {},
   "outputs": [
    {
     "data": {
      "text/plain": [
       "array([23.61661707])"
      ]
     },
     "execution_count": 13,
     "metadata": {},
     "output_type": "execute_result"
    }
   ],
   "source": [
    "validation = ShuffleSplit(n_splits=1,test_size=196,random_state=0)\n",
    "results = cross_validate(hp_model, Auto.drop(['mpg'],axis=1),Auto['mpg'], cv=validation);\n",
    "results['test_score']"
   ]
  },
  {
   "cell_type": "code",
   "execution_count": 14,
   "id": "796c5af0-daff-4464-bfca-e3cb6a09a7e7",
   "metadata": {},
   "outputs": [
    {
     "data": {
      "text/plain": [
       "(23.80223266103416, 1.42184509410918)"
      ]
     },
     "execution_count": 14,
     "metadata": {},
     "output_type": "execute_result"
    }
   ],
   "source": [
    "validation = ShuffleSplit(n_splits=10,test_size=196,random_state=0)\n",
    "results = cross_validate(hp_model, Auto.drop(['mpg'],axis=1),Auto['mpg'], cv=validation);\n",
    "results['test_score'].mean(), results['test_score'].std()"
   ]
  },
  {
   "cell_type": "markdown",
   "id": "f1fe667f-27a2-4ea1-8f89-43931512c25a",
   "metadata": {},
   "source": [
    "### Bootstrap"
   ]
  },
  {
   "cell_type": "code",
   "execution_count": 15,
   "id": "0c18fb55-f117-4265-aad2-f743b690ca03",
   "metadata": {},
   "outputs": [],
   "source": [
    "Portfolio = load_data('Portfolio')\n",
    "def alpha_func(D,idx): # we define a function for estimating the alpha based on the data\n",
    "    cov_ = np.cov(D[['X','Y']].loc[idx],rowvar=False) #rowvar specifies that the data is in the columns\n",
    "    return ((cov_[1,1] - cov_[0,1])/(cov_[0,0]+cov_[1,1]-2*cov_[0,1]))\n",
    "    "
   ]
  },
  {
   "cell_type": "code",
   "execution_count": 16,
   "id": "88d607f3-ba59-4ac0-9de7-c3f61faa0f37",
   "metadata": {},
   "outputs": [
    {
     "data": {
      "text/plain": [
       "0.57583207459283"
      ]
     },
     "execution_count": 16,
     "metadata": {},
     "output_type": "execute_result"
    }
   ],
   "source": [
    "alpha_func(Portfolio, range(100)) #computes alpha for the 100 obs in the data"
   ]
  },
  {
   "cell_type": "code",
   "execution_count": 17,
   "id": "bf217e9c-1632-4e2e-ace9-debbe55e61a9",
   "metadata": {},
   "outputs": [],
   "source": [
    "rng = np.random.default_rng(0)"
   ]
  },
  {
   "cell_type": "code",
   "execution_count": 18,
   "id": "0727051e-f103-4637-afdf-e7438af90165",
   "metadata": {},
   "outputs": [
    {
     "data": {
      "text/plain": [
       "0.6074452469619004"
      ]
     },
     "execution_count": 18,
     "metadata": {},
     "output_type": "execute_result"
    }
   ],
   "source": [
    "alpha_func(Portfolio,rng.choice(100,100,replace=True)) #computes alpha for 100 random obs in the dataset, picked with replacement"
   ]
  },
  {
   "cell_type": "code",
   "execution_count": 19,
   "id": "9df40dde-d753-4df5-857e-1e85bb8a1bf0",
   "metadata": {},
   "outputs": [],
   "source": [
    "def boot_SE(func, D, n=None, B=1000, seed=0): # we can put it all together in one formula to compute the standard error of the estimated alpha\n",
    "    rng = np.random.default_rng(seed)\n",
    "    first_, second_ = 0, 0\n",
    "    n = n or D.shape[0]\n",
    "    for _ in range(B):\n",
    "        idx = rng.choice(D.index,n,replace=True)\n",
    "        value = func(D, idx)\n",
    "        first_ += value\n",
    "        second_ += value**2\n",
    "    return np.sqrt(second_ / B - (first_ / B)**2)\n",
    "    \n"
   ]
  },
  {
   "cell_type": "code",
   "execution_count": 20,
   "id": "2d9a52fd-1dab-4557-8dfb-1b04a0dfd793",
   "metadata": {},
   "outputs": [
    {
     "data": {
      "text/plain": [
       "0.09118176521277699"
      ]
     },
     "execution_count": 20,
     "metadata": {},
     "output_type": "execute_result"
    }
   ],
   "source": [
    "boot_SE(alpha_func,Portfolio)"
   ]
  },
  {
   "cell_type": "code",
   "execution_count": 21,
   "id": "66dfa502-7fd2-44ba-b07e-709a1aca6393",
   "metadata": {},
   "outputs": [],
   "source": [
    "Auto = load_data('Auto')"
   ]
  },
  {
   "cell_type": "code",
   "execution_count": 22,
   "id": "846b9bc0-9549-4d41-ae91-9c78ef292da5",
   "metadata": {},
   "outputs": [],
   "source": [
    "def boot_OLS(model_matrix, response, D, idx):\n",
    "    D_ = D.loc[idx]\n",
    "    Y_ = D_[response]\n",
    "    X_ = clone(model_matrix).fit_transform(D_)\n",
    "    return sm.OLS(Y_,X_).fit().params"
   ]
  },
  {
   "cell_type": "code",
   "execution_count": 23,
   "id": "3c2480e4-42de-4adc-987e-f7e94b1364e3",
   "metadata": {},
   "outputs": [],
   "source": [
    "hp_func = partial(boot_OLS, MS(['horsepower']), 'mpg') # this line creates a version of the bool_OLS function where the model matrix and response are fixed to the specified values"
   ]
  },
  {
   "cell_type": "code",
   "execution_count": 24,
   "id": "e325a179-533f-4b32-8873-88d70929b5e3",
   "metadata": {},
   "outputs": [
    {
     "data": {
      "text/plain": [
       "array([[39.88064456, -0.1567849 ],\n",
       "       [38.73298691, -0.14699495],\n",
       "       [38.31734657, -0.14442683],\n",
       "       [39.91446826, -0.15782234],\n",
       "       [39.43349349, -0.15072702],\n",
       "       [40.36629857, -0.15912217],\n",
       "       [39.62334517, -0.15449117],\n",
       "       [39.0580588 , -0.14952908],\n",
       "       [38.66688437, -0.14521037],\n",
       "       [39.64280792, -0.15555698]])"
      ]
     },
     "execution_count": 24,
     "metadata": {},
     "output_type": "execute_result"
    }
   ],
   "source": [
    "rng = np.random.default_rng(0)\n",
    "n = Auto.shape[0]\n",
    "np.array([hp_func(Auto, rng.choice(n,n,replace=True)) for _ in range(10)]) # the new function can be used to create bootstrap examples of beta0 and beta1"
   ]
  },
  {
   "cell_type": "code",
   "execution_count": 25,
   "id": "7836a314-f50a-4796-8183-cc32632b20e0",
   "metadata": {},
   "outputs": [
    {
     "data": {
      "text/plain": [
       "intercept     0.848807\n",
       "horsepower    0.007352\n",
       "dtype: float64"
      ]
     },
     "execution_count": 25,
     "metadata": {},
     "output_type": "execute_result"
    }
   ],
   "source": [
    "# we can still use boot_SE to compute the standard errors\n",
    "hp_SE = boot_SE(hp_func,Auto,B=1000, seed=10)\n",
    "hp_SE"
   ]
  },
  {
   "cell_type": "code",
   "execution_count": 26,
   "id": "d1c9bbb0-3b2b-465c-9f6c-2319faa9e789",
   "metadata": {},
   "outputs": [
    {
     "data": {
      "text/plain": [
       "intercept     0.717\n",
       "horsepower    0.006\n",
       "Name: std err, dtype: float64"
      ]
     },
     "execution_count": 26,
     "metadata": {},
     "output_type": "execute_result"
    }
   ],
   "source": [
    "hp_model.fit(Auto, Auto['mpg'])\n",
    "model_se = summarize(hp_model.results_)['std err']\n",
    "model_se"
   ]
  },
  {
   "cell_type": "code",
   "execution_count": 27,
   "id": "c6879206-a530-4c0a-be24-f45b240de703",
   "metadata": {},
   "outputs": [
    {
     "data": {
      "text/plain": [
       "intercept                                  2.067840\n",
       "poly(horsepower, degree=2, raw=True)[0]    0.033019\n",
       "poly(horsepower, degree=2, raw=True)[1]    0.000120\n",
       "dtype: float64"
      ]
     },
     "execution_count": 27,
     "metadata": {},
     "output_type": "execute_result"
    }
   ],
   "source": [
    "quad_model = MS([poly('horsepower',2, raw=True)])\n",
    "quad_func = partial(boot_OLS, quad_model, 'mpg')\n",
    "boot_SE(quad_func,Auto)"
   ]
  },
  {
   "cell_type": "code",
   "execution_count": 28,
   "id": "2a0eae73-c18a-4b75-8110-c573285d7930",
   "metadata": {},
   "outputs": [
    {
     "data": {
      "text/plain": [
       "intercept                                  1.800\n",
       "poly(horsepower, degree=2, raw=True)[0]    0.031\n",
       "poly(horsepower, degree=2, raw=True)[1]    0.000\n",
       "Name: std err, dtype: float64"
      ]
     },
     "execution_count": 28,
     "metadata": {},
     "output_type": "execute_result"
    }
   ],
   "source": [
    "M = sm.OLS(Auto['mpg'],quad_model.fit_transform(Auto))\n",
    "summarize(M.fit())['std err']"
   ]
  },
  {
   "cell_type": "code",
   "execution_count": null,
   "id": "a5478b67-fbe8-4fa8-a703-9fdbaba4fa6d",
   "metadata": {},
   "outputs": [],
   "source": []
  }
 ],
 "metadata": {
  "kernelspec": {
   "display_name": "Python 3 (ipykernel)",
   "language": "python",
   "name": "python3"
  },
  "language_info": {
   "codemirror_mode": {
    "name": "ipython",
    "version": 3
   },
   "file_extension": ".py",
   "mimetype": "text/x-python",
   "name": "python",
   "nbconvert_exporter": "python",
   "pygments_lexer": "ipython3",
   "version": "3.9.13"
  }
 },
 "nbformat": 4,
 "nbformat_minor": 5
}
