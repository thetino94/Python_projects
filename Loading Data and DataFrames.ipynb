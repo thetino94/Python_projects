{
  "metadata": {
    "language_info": {
      "codemirror_mode": {
        "name": "python",
        "version": 3
      },
      "file_extension": ".py",
      "mimetype": "text/x-python",
      "name": "python",
      "nbconvert_exporter": "python",
      "pygments_lexer": "ipython3",
      "version": "3.8"
    },
    "kernelspec": {
      "name": "python",
      "display_name": "Python (Pyodide)",
      "language": "python"
    }
  },
  "nbformat_minor": 4,
  "nbformat": 4,
  "cells": [
    {
      "cell_type": "markdown",
      "source": "Loading data",
      "metadata": {}
    },
    {
      "cell_type": "code",
      "source": "import pandas as pd\nimport numpy as np\nfrom matplotlib import pyplot as plt",
      "metadata": {
        "trusted": true
      },
      "execution_count": 9,
      "outputs": []
    },
    {
      "cell_type": "code",
      "source": "Auto = pd.read_csv('Auto.csv')\nAuto",
      "metadata": {
        "trusted": true
      },
      "execution_count": 12,
      "outputs": [
        {
          "execution_count": 12,
          "output_type": "execute_result",
          "data": {
            "text/plain": "      mpg  cylinders  displacement horsepower  weight  acceleration  year  \\\n0    18.0          8         307.0        130    3504          12.0    70   \n1    15.0          8         350.0        165    3693          11.5    70   \n2    18.0          8         318.0        150    3436          11.0    70   \n3    16.0          8         304.0        150    3433          12.0    70   \n4    17.0          8         302.0        140    3449          10.5    70   \n..    ...        ...           ...        ...     ...           ...   ...   \n392  27.0          4         140.0         86    2790          15.6    82   \n393  44.0          4          97.0         52    2130          24.6    82   \n394  32.0          4         135.0         84    2295          11.6    82   \n395  28.0          4         120.0         79    2625          18.6    82   \n396  31.0          4         119.0         82    2720          19.4    82   \n\n     origin                       name  \n0         1  chevrolet chevelle malibu  \n1         1          buick skylark 320  \n2         1         plymouth satellite  \n3         1              amc rebel sst  \n4         1                ford torino  \n..      ...                        ...  \n392       1            ford mustang gl  \n393       2                  vw pickup  \n394       1              dodge rampage  \n395       1                ford ranger  \n396       1                 chevy s-10  \n\n[397 rows x 9 columns]",
            "text/html": "<div>\n<style scoped>\n    .dataframe tbody tr th:only-of-type {\n        vertical-align: middle;\n    }\n\n    .dataframe tbody tr th {\n        vertical-align: top;\n    }\n\n    .dataframe thead th {\n        text-align: right;\n    }\n</style>\n<table border=\"1\" class=\"dataframe\">\n  <thead>\n    <tr style=\"text-align: right;\">\n      <th></th>\n      <th>mpg</th>\n      <th>cylinders</th>\n      <th>displacement</th>\n      <th>horsepower</th>\n      <th>weight</th>\n      <th>acceleration</th>\n      <th>year</th>\n      <th>origin</th>\n      <th>name</th>\n    </tr>\n  </thead>\n  <tbody>\n    <tr>\n      <th>0</th>\n      <td>18.0</td>\n      <td>8</td>\n      <td>307.0</td>\n      <td>130</td>\n      <td>3504</td>\n      <td>12.0</td>\n      <td>70</td>\n      <td>1</td>\n      <td>chevrolet chevelle malibu</td>\n    </tr>\n    <tr>\n      <th>1</th>\n      <td>15.0</td>\n      <td>8</td>\n      <td>350.0</td>\n      <td>165</td>\n      <td>3693</td>\n      <td>11.5</td>\n      <td>70</td>\n      <td>1</td>\n      <td>buick skylark 320</td>\n    </tr>\n    <tr>\n      <th>2</th>\n      <td>18.0</td>\n      <td>8</td>\n      <td>318.0</td>\n      <td>150</td>\n      <td>3436</td>\n      <td>11.0</td>\n      <td>70</td>\n      <td>1</td>\n      <td>plymouth satellite</td>\n    </tr>\n    <tr>\n      <th>3</th>\n      <td>16.0</td>\n      <td>8</td>\n      <td>304.0</td>\n      <td>150</td>\n      <td>3433</td>\n      <td>12.0</td>\n      <td>70</td>\n      <td>1</td>\n      <td>amc rebel sst</td>\n    </tr>\n    <tr>\n      <th>4</th>\n      <td>17.0</td>\n      <td>8</td>\n      <td>302.0</td>\n      <td>140</td>\n      <td>3449</td>\n      <td>10.5</td>\n      <td>70</td>\n      <td>1</td>\n      <td>ford torino</td>\n    </tr>\n    <tr>\n      <th>...</th>\n      <td>...</td>\n      <td>...</td>\n      <td>...</td>\n      <td>...</td>\n      <td>...</td>\n      <td>...</td>\n      <td>...</td>\n      <td>...</td>\n      <td>...</td>\n    </tr>\n    <tr>\n      <th>392</th>\n      <td>27.0</td>\n      <td>4</td>\n      <td>140.0</td>\n      <td>86</td>\n      <td>2790</td>\n      <td>15.6</td>\n      <td>82</td>\n      <td>1</td>\n      <td>ford mustang gl</td>\n    </tr>\n    <tr>\n      <th>393</th>\n      <td>44.0</td>\n      <td>4</td>\n      <td>97.0</td>\n      <td>52</td>\n      <td>2130</td>\n      <td>24.6</td>\n      <td>82</td>\n      <td>2</td>\n      <td>vw pickup</td>\n    </tr>\n    <tr>\n      <th>394</th>\n      <td>32.0</td>\n      <td>4</td>\n      <td>135.0</td>\n      <td>84</td>\n      <td>2295</td>\n      <td>11.6</td>\n      <td>82</td>\n      <td>1</td>\n      <td>dodge rampage</td>\n    </tr>\n    <tr>\n      <th>395</th>\n      <td>28.0</td>\n      <td>4</td>\n      <td>120.0</td>\n      <td>79</td>\n      <td>2625</td>\n      <td>18.6</td>\n      <td>82</td>\n      <td>1</td>\n      <td>ford ranger</td>\n    </tr>\n    <tr>\n      <th>396</th>\n      <td>31.0</td>\n      <td>4</td>\n      <td>119.0</td>\n      <td>82</td>\n      <td>2720</td>\n      <td>19.4</td>\n      <td>82</td>\n      <td>1</td>\n      <td>chevy s-10</td>\n    </tr>\n  </tbody>\n</table>\n<p>397 rows × 9 columns</p>\n</div>"
          },
          "metadata": {}
        }
      ]
    },
    {
      "cell_type": "code",
      "source": "Auto['horsepower']",
      "metadata": {
        "trusted": true
      },
      "execution_count": 14,
      "outputs": [
        {
          "execution_count": 14,
          "output_type": "execute_result",
          "data": {
            "text/plain": "0      130\n1      165\n2      150\n3      150\n4      140\n      ... \n392     86\n393     52\n394     84\n395     79\n396     82\nName: horsepower, Length: 397, dtype: object"
          },
          "metadata": {}
        }
      ]
    },
    {
      "cell_type": "code",
      "source": "np.unique(Auto['horsepower']) # a cheaky '?' is messing with the data type",
      "metadata": {
        "trusted": true
      },
      "execution_count": 15,
      "outputs": [
        {
          "execution_count": 15,
          "output_type": "execute_result",
          "data": {
            "text/plain": "array(['100', '102', '103', '105', '107', '108', '110', '112', '113',\n       '115', '116', '120', '122', '125', '129', '130', '132', '133',\n       '135', '137', '138', '139', '140', '142', '145', '148', '149',\n       '150', '152', '153', '155', '158', '160', '165', '167', '170',\n       '175', '180', '190', '193', '198', '200', '208', '210', '215',\n       '220', '225', '230', '46', '48', '49', '52', '53', '54', '58',\n       '60', '61', '62', '63', '64', '65', '66', '67', '68', '69', '70',\n       '71', '72', '74', '75', '76', '77', '78', '79', '80', '81', '82',\n       '83', '84', '85', '86', '87', '88', '89', '90', '91', '92', '93',\n       '94', '95', '96', '97', '98', '?'], dtype=object)"
          },
          "metadata": {}
        }
      ]
    },
    {
      "cell_type": "code",
      "source": "Auto = pd.read_csv('Auto.csv',na_values = ['?'])\nAuto['horsepower'].sum() # if we get a number this fixed the problem",
      "metadata": {
        "trusted": true
      },
      "execution_count": 19,
      "outputs": [
        {
          "execution_count": 19,
          "output_type": "execute_result",
          "data": {
            "text/plain": "40952.0"
          },
          "metadata": {}
        }
      ]
    },
    {
      "cell_type": "code",
      "source": "Auto.shape #rows and columns",
      "metadata": {
        "trusted": true
      },
      "execution_count": 20,
      "outputs": [
        {
          "execution_count": 20,
          "output_type": "execute_result",
          "data": {
            "text/plain": "(397, 9)"
          },
          "metadata": {}
        }
      ]
    },
    {
      "cell_type": "code",
      "source": "Auto_new = Auto.dropna() #drop the rows with missing values\nAuto_new.shape",
      "metadata": {
        "trusted": true
      },
      "execution_count": 23,
      "outputs": [
        {
          "execution_count": 23,
          "output_type": "execute_result",
          "data": {
            "text/plain": "(392, 9)"
          },
          "metadata": {}
        }
      ]
    },
    {
      "cell_type": "code",
      "source": "Auto = Auto_new\nAuto.columns #shows us the column/variable names",
      "metadata": {
        "trusted": true
      },
      "execution_count": 25,
      "outputs": [
        {
          "execution_count": 25,
          "output_type": "execute_result",
          "data": {
            "text/plain": "Index(['mpg', 'cylinders', 'displacement', 'horsepower', 'weight',\n       'acceleration', 'year', 'origin', 'name'],\n      dtype='object')"
          },
          "metadata": {}
        }
      ]
    },
    {
      "cell_type": "code",
      "source": "#We can subset a dataframe in similar ways to an array\nAuto[:3]",
      "metadata": {
        "trusted": true
      },
      "execution_count": 26,
      "outputs": [
        {
          "execution_count": 26,
          "output_type": "execute_result",
          "data": {
            "text/plain": "    mpg  cylinders  displacement  horsepower  weight  acceleration  year  \\\n0  18.0          8         307.0       130.0    3504          12.0    70   \n1  15.0          8         350.0       165.0    3693          11.5    70   \n2  18.0          8         318.0       150.0    3436          11.0    70   \n\n   origin                       name  \n0       1  chevrolet chevelle malibu  \n1       1          buick skylark 320  \n2       1         plymouth satellite  ",
            "text/html": "<div>\n<style scoped>\n    .dataframe tbody tr th:only-of-type {\n        vertical-align: middle;\n    }\n\n    .dataframe tbody tr th {\n        vertical-align: top;\n    }\n\n    .dataframe thead th {\n        text-align: right;\n    }\n</style>\n<table border=\"1\" class=\"dataframe\">\n  <thead>\n    <tr style=\"text-align: right;\">\n      <th></th>\n      <th>mpg</th>\n      <th>cylinders</th>\n      <th>displacement</th>\n      <th>horsepower</th>\n      <th>weight</th>\n      <th>acceleration</th>\n      <th>year</th>\n      <th>origin</th>\n      <th>name</th>\n    </tr>\n  </thead>\n  <tbody>\n    <tr>\n      <th>0</th>\n      <td>18.0</td>\n      <td>8</td>\n      <td>307.0</td>\n      <td>130.0</td>\n      <td>3504</td>\n      <td>12.0</td>\n      <td>70</td>\n      <td>1</td>\n      <td>chevrolet chevelle malibu</td>\n    </tr>\n    <tr>\n      <th>1</th>\n      <td>15.0</td>\n      <td>8</td>\n      <td>350.0</td>\n      <td>165.0</td>\n      <td>3693</td>\n      <td>11.5</td>\n      <td>70</td>\n      <td>1</td>\n      <td>buick skylark 320</td>\n    </tr>\n    <tr>\n      <th>2</th>\n      <td>18.0</td>\n      <td>8</td>\n      <td>318.0</td>\n      <td>150.0</td>\n      <td>3436</td>\n      <td>11.0</td>\n      <td>70</td>\n      <td>1</td>\n      <td>plymouth satellite</td>\n    </tr>\n  </tbody>\n</table>\n</div>"
          },
          "metadata": {}
        }
      ]
    },
    {
      "cell_type": "code",
      "source": "Auto[3:7]",
      "metadata": {
        "trusted": true
      },
      "execution_count": 28,
      "outputs": [
        {
          "execution_count": 28,
          "output_type": "execute_result",
          "data": {
            "text/plain": "    mpg  cylinders  displacement  horsepower  weight  acceleration  year  \\\n3  16.0          8         304.0       150.0    3433          12.0    70   \n4  17.0          8         302.0       140.0    3449          10.5    70   \n5  15.0          8         429.0       198.0    4341          10.0    70   \n6  14.0          8         454.0       220.0    4354           9.0    70   \n\n   origin              name  \n3       1     amc rebel sst  \n4       1       ford torino  \n5       1  ford galaxie 500  \n6       1  chevrolet impala  ",
            "text/html": "<div>\n<style scoped>\n    .dataframe tbody tr th:only-of-type {\n        vertical-align: middle;\n    }\n\n    .dataframe tbody tr th {\n        vertical-align: top;\n    }\n\n    .dataframe thead th {\n        text-align: right;\n    }\n</style>\n<table border=\"1\" class=\"dataframe\">\n  <thead>\n    <tr style=\"text-align: right;\">\n      <th></th>\n      <th>mpg</th>\n      <th>cylinders</th>\n      <th>displacement</th>\n      <th>horsepower</th>\n      <th>weight</th>\n      <th>acceleration</th>\n      <th>year</th>\n      <th>origin</th>\n      <th>name</th>\n    </tr>\n  </thead>\n  <tbody>\n    <tr>\n      <th>3</th>\n      <td>16.0</td>\n      <td>8</td>\n      <td>304.0</td>\n      <td>150.0</td>\n      <td>3433</td>\n      <td>12.0</td>\n      <td>70</td>\n      <td>1</td>\n      <td>amc rebel sst</td>\n    </tr>\n    <tr>\n      <th>4</th>\n      <td>17.0</td>\n      <td>8</td>\n      <td>302.0</td>\n      <td>140.0</td>\n      <td>3449</td>\n      <td>10.5</td>\n      <td>70</td>\n      <td>1</td>\n      <td>ford torino</td>\n    </tr>\n    <tr>\n      <th>5</th>\n      <td>15.0</td>\n      <td>8</td>\n      <td>429.0</td>\n      <td>198.0</td>\n      <td>4341</td>\n      <td>10.0</td>\n      <td>70</td>\n      <td>1</td>\n      <td>ford galaxie 500</td>\n    </tr>\n    <tr>\n      <th>6</th>\n      <td>14.0</td>\n      <td>8</td>\n      <td>454.0</td>\n      <td>220.0</td>\n      <td>4354</td>\n      <td>9.0</td>\n      <td>70</td>\n      <td>1</td>\n      <td>chevrolet impala</td>\n    </tr>\n  </tbody>\n</table>\n</div>"
          },
          "metadata": {}
        }
      ]
    },
    {
      "cell_type": "code",
      "source": "idx_80 = Auto['year'] > 80\nAuto[idx_80].head()#I included head to keep output short",
      "metadata": {
        "trusted": true
      },
      "execution_count": 30,
      "outputs": [
        {
          "execution_count": 30,
          "output_type": "execute_result",
          "data": {
            "text/plain": "      mpg  cylinders  displacement  horsepower  weight  acceleration  year  \\\n338  27.2          4         135.0        84.0    2490          15.7    81   \n339  26.6          4         151.0        84.0    2635          16.4    81   \n340  25.8          4         156.0        92.0    2620          14.4    81   \n341  23.5          6         173.0       110.0    2725          12.6    81   \n342  30.0          4         135.0        84.0    2385          12.9    81   \n\n     origin                    name  \n338       1        plymouth reliant  \n339       1           buick skylark  \n340       1  dodge aries wagon (sw)  \n341       1      chevrolet citation  \n342       1        plymouth reliant  ",
            "text/html": "<div>\n<style scoped>\n    .dataframe tbody tr th:only-of-type {\n        vertical-align: middle;\n    }\n\n    .dataframe tbody tr th {\n        vertical-align: top;\n    }\n\n    .dataframe thead th {\n        text-align: right;\n    }\n</style>\n<table border=\"1\" class=\"dataframe\">\n  <thead>\n    <tr style=\"text-align: right;\">\n      <th></th>\n      <th>mpg</th>\n      <th>cylinders</th>\n      <th>displacement</th>\n      <th>horsepower</th>\n      <th>weight</th>\n      <th>acceleration</th>\n      <th>year</th>\n      <th>origin</th>\n      <th>name</th>\n    </tr>\n  </thead>\n  <tbody>\n    <tr>\n      <th>338</th>\n      <td>27.2</td>\n      <td>4</td>\n      <td>135.0</td>\n      <td>84.0</td>\n      <td>2490</td>\n      <td>15.7</td>\n      <td>81</td>\n      <td>1</td>\n      <td>plymouth reliant</td>\n    </tr>\n    <tr>\n      <th>339</th>\n      <td>26.6</td>\n      <td>4</td>\n      <td>151.0</td>\n      <td>84.0</td>\n      <td>2635</td>\n      <td>16.4</td>\n      <td>81</td>\n      <td>1</td>\n      <td>buick skylark</td>\n    </tr>\n    <tr>\n      <th>340</th>\n      <td>25.8</td>\n      <td>4</td>\n      <td>156.0</td>\n      <td>92.0</td>\n      <td>2620</td>\n      <td>14.4</td>\n      <td>81</td>\n      <td>1</td>\n      <td>dodge aries wagon (sw)</td>\n    </tr>\n    <tr>\n      <th>341</th>\n      <td>23.5</td>\n      <td>6</td>\n      <td>173.0</td>\n      <td>110.0</td>\n      <td>2725</td>\n      <td>12.6</td>\n      <td>81</td>\n      <td>1</td>\n      <td>chevrolet citation</td>\n    </tr>\n    <tr>\n      <th>342</th>\n      <td>30.0</td>\n      <td>4</td>\n      <td>135.0</td>\n      <td>84.0</td>\n      <td>2385</td>\n      <td>12.9</td>\n      <td>81</td>\n      <td>1</td>\n      <td>plymouth reliant</td>\n    </tr>\n  </tbody>\n</table>\n</div>"
          },
          "metadata": {}
        }
      ]
    },
    {
      "cell_type": "code",
      "source": "Auto[['mpg','horsepower']] #remember double brackets for columns",
      "metadata": {
        "trusted": true
      },
      "execution_count": 33,
      "outputs": [
        {
          "execution_count": 33,
          "output_type": "execute_result",
          "data": {
            "text/plain": "      mpg  horsepower\n0    18.0       130.0\n1    15.0       165.0\n2    18.0       150.0\n3    16.0       150.0\n4    17.0       140.0\n..    ...         ...\n392  27.0        86.0\n393  44.0        52.0\n394  32.0        84.0\n395  28.0        79.0\n396  31.0        82.0\n\n[392 rows x 2 columns]",
            "text/html": "<div>\n<style scoped>\n    .dataframe tbody tr th:only-of-type {\n        vertical-align: middle;\n    }\n\n    .dataframe tbody tr th {\n        vertical-align: top;\n    }\n\n    .dataframe thead th {\n        text-align: right;\n    }\n</style>\n<table border=\"1\" class=\"dataframe\">\n  <thead>\n    <tr style=\"text-align: right;\">\n      <th></th>\n      <th>mpg</th>\n      <th>horsepower</th>\n    </tr>\n  </thead>\n  <tbody>\n    <tr>\n      <th>0</th>\n      <td>18.0</td>\n      <td>130.0</td>\n    </tr>\n    <tr>\n      <th>1</th>\n      <td>15.0</td>\n      <td>165.0</td>\n    </tr>\n    <tr>\n      <th>2</th>\n      <td>18.0</td>\n      <td>150.0</td>\n    </tr>\n    <tr>\n      <th>3</th>\n      <td>16.0</td>\n      <td>150.0</td>\n    </tr>\n    <tr>\n      <th>4</th>\n      <td>17.0</td>\n      <td>140.0</td>\n    </tr>\n    <tr>\n      <th>...</th>\n      <td>...</td>\n      <td>...</td>\n    </tr>\n    <tr>\n      <th>392</th>\n      <td>27.0</td>\n      <td>86.0</td>\n    </tr>\n    <tr>\n      <th>393</th>\n      <td>44.0</td>\n      <td>52.0</td>\n    </tr>\n    <tr>\n      <th>394</th>\n      <td>32.0</td>\n      <td>84.0</td>\n    </tr>\n    <tr>\n      <th>395</th>\n      <td>28.0</td>\n      <td>79.0</td>\n    </tr>\n    <tr>\n      <th>396</th>\n      <td>31.0</td>\n      <td>82.0</td>\n    </tr>\n  </tbody>\n</table>\n<p>392 rows × 2 columns</p>\n</div>"
          },
          "metadata": {}
        }
      ]
    },
    {
      "cell_type": "code",
      "source": "Auto.index #shows values of indexing column, if not specified on upload, the default starts at 0",
      "metadata": {
        "trusted": true
      },
      "execution_count": 35,
      "outputs": [
        {
          "execution_count": 35,
          "output_type": "execute_result",
          "data": {
            "text/plain": "Int64Index([  0,   1,   2,   3,   4,   5,   6,   7,   8,   9,\n            ...\n            387, 388, 389, 390, 391, 392, 393, 394, 395, 396],\n           dtype='int64', length=392)"
          },
          "metadata": {}
        }
      ]
    },
    {
      "cell_type": "code",
      "source": "Auto_re = Auto.set_index('name') #we asign name as the new index\nAuto_re",
      "metadata": {
        "trusted": true
      },
      "execution_count": 39,
      "outputs": [
        {
          "execution_count": 39,
          "output_type": "execute_result",
          "data": {
            "text/plain": "                            mpg  cylinders  displacement  horsepower  weight  \\\nname                                                                           \nchevrolet chevelle malibu  18.0          8         307.0       130.0    3504   \nbuick skylark 320          15.0          8         350.0       165.0    3693   \nplymouth satellite         18.0          8         318.0       150.0    3436   \namc rebel sst              16.0          8         304.0       150.0    3433   \nford torino                17.0          8         302.0       140.0    3449   \n...                         ...        ...           ...         ...     ...   \nford mustang gl            27.0          4         140.0        86.0    2790   \nvw pickup                  44.0          4          97.0        52.0    2130   \ndodge rampage              32.0          4         135.0        84.0    2295   \nford ranger                28.0          4         120.0        79.0    2625   \nchevy s-10                 31.0          4         119.0        82.0    2720   \n\n                           acceleration  year  origin  \nname                                                   \nchevrolet chevelle malibu          12.0    70       1  \nbuick skylark 320                  11.5    70       1  \nplymouth satellite                 11.0    70       1  \namc rebel sst                      12.0    70       1  \nford torino                        10.5    70       1  \n...                                 ...   ...     ...  \nford mustang gl                    15.6    82       1  \nvw pickup                          24.6    82       2  \ndodge rampage                      11.6    82       1  \nford ranger                        18.6    82       1  \nchevy s-10                         19.4    82       1  \n\n[392 rows x 8 columns]",
            "text/html": "<div>\n<style scoped>\n    .dataframe tbody tr th:only-of-type {\n        vertical-align: middle;\n    }\n\n    .dataframe tbody tr th {\n        vertical-align: top;\n    }\n\n    .dataframe thead th {\n        text-align: right;\n    }\n</style>\n<table border=\"1\" class=\"dataframe\">\n  <thead>\n    <tr style=\"text-align: right;\">\n      <th></th>\n      <th>mpg</th>\n      <th>cylinders</th>\n      <th>displacement</th>\n      <th>horsepower</th>\n      <th>weight</th>\n      <th>acceleration</th>\n      <th>year</th>\n      <th>origin</th>\n    </tr>\n    <tr>\n      <th>name</th>\n      <th></th>\n      <th></th>\n      <th></th>\n      <th></th>\n      <th></th>\n      <th></th>\n      <th></th>\n      <th></th>\n    </tr>\n  </thead>\n  <tbody>\n    <tr>\n      <th>chevrolet chevelle malibu</th>\n      <td>18.0</td>\n      <td>8</td>\n      <td>307.0</td>\n      <td>130.0</td>\n      <td>3504</td>\n      <td>12.0</td>\n      <td>70</td>\n      <td>1</td>\n    </tr>\n    <tr>\n      <th>buick skylark 320</th>\n      <td>15.0</td>\n      <td>8</td>\n      <td>350.0</td>\n      <td>165.0</td>\n      <td>3693</td>\n      <td>11.5</td>\n      <td>70</td>\n      <td>1</td>\n    </tr>\n    <tr>\n      <th>plymouth satellite</th>\n      <td>18.0</td>\n      <td>8</td>\n      <td>318.0</td>\n      <td>150.0</td>\n      <td>3436</td>\n      <td>11.0</td>\n      <td>70</td>\n      <td>1</td>\n    </tr>\n    <tr>\n      <th>amc rebel sst</th>\n      <td>16.0</td>\n      <td>8</td>\n      <td>304.0</td>\n      <td>150.0</td>\n      <td>3433</td>\n      <td>12.0</td>\n      <td>70</td>\n      <td>1</td>\n    </tr>\n    <tr>\n      <th>ford torino</th>\n      <td>17.0</td>\n      <td>8</td>\n      <td>302.0</td>\n      <td>140.0</td>\n      <td>3449</td>\n      <td>10.5</td>\n      <td>70</td>\n      <td>1</td>\n    </tr>\n    <tr>\n      <th>...</th>\n      <td>...</td>\n      <td>...</td>\n      <td>...</td>\n      <td>...</td>\n      <td>...</td>\n      <td>...</td>\n      <td>...</td>\n      <td>...</td>\n    </tr>\n    <tr>\n      <th>ford mustang gl</th>\n      <td>27.0</td>\n      <td>4</td>\n      <td>140.0</td>\n      <td>86.0</td>\n      <td>2790</td>\n      <td>15.6</td>\n      <td>82</td>\n      <td>1</td>\n    </tr>\n    <tr>\n      <th>vw pickup</th>\n      <td>44.0</td>\n      <td>4</td>\n      <td>97.0</td>\n      <td>52.0</td>\n      <td>2130</td>\n      <td>24.6</td>\n      <td>82</td>\n      <td>2</td>\n    </tr>\n    <tr>\n      <th>dodge rampage</th>\n      <td>32.0</td>\n      <td>4</td>\n      <td>135.0</td>\n      <td>84.0</td>\n      <td>2295</td>\n      <td>11.6</td>\n      <td>82</td>\n      <td>1</td>\n    </tr>\n    <tr>\n      <th>ford ranger</th>\n      <td>28.0</td>\n      <td>4</td>\n      <td>120.0</td>\n      <td>79.0</td>\n      <td>2625</td>\n      <td>18.6</td>\n      <td>82</td>\n      <td>1</td>\n    </tr>\n    <tr>\n      <th>chevy s-10</th>\n      <td>31.0</td>\n      <td>4</td>\n      <td>119.0</td>\n      <td>82.0</td>\n      <td>2720</td>\n      <td>19.4</td>\n      <td>82</td>\n      <td>1</td>\n    </tr>\n  </tbody>\n</table>\n<p>392 rows × 8 columns</p>\n</div>"
          },
          "metadata": {}
        }
      ]
    },
    {
      "cell_type": "code",
      "source": "Auto_re.columns #name no longer shows as a column",
      "metadata": {
        "trusted": true
      },
      "execution_count": 38,
      "outputs": [
        {
          "execution_count": 38,
          "output_type": "execute_result",
          "data": {
            "text/plain": "Index(['mpg', 'cylinders', 'displacement', 'horsepower', 'weight',\n       'acceleration', 'year', 'origin'],\n      dtype='object')"
          },
          "metadata": {}
        }
      ]
    },
    {
      "cell_type": "code",
      "source": "rows = ['amc rebel sst', 'ford torino']\nAuto_re.loc[rows] #we can select rowns by the car name now with .loc",
      "metadata": {
        "trusted": true
      },
      "execution_count": 40,
      "outputs": [
        {
          "execution_count": 40,
          "output_type": "execute_result",
          "data": {
            "text/plain": "                mpg  cylinders  displacement  horsepower  weight  \\\nname                                                               \namc rebel sst  16.0          8         304.0       150.0    3433   \nford torino    17.0          8         302.0       140.0    3449   \n\n               acceleration  year  origin  \nname                                       \namc rebel sst          12.0    70       1  \nford torino            10.5    70       1  ",
            "text/html": "<div>\n<style scoped>\n    .dataframe tbody tr th:only-of-type {\n        vertical-align: middle;\n    }\n\n    .dataframe tbody tr th {\n        vertical-align: top;\n    }\n\n    .dataframe thead th {\n        text-align: right;\n    }\n</style>\n<table border=\"1\" class=\"dataframe\">\n  <thead>\n    <tr style=\"text-align: right;\">\n      <th></th>\n      <th>mpg</th>\n      <th>cylinders</th>\n      <th>displacement</th>\n      <th>horsepower</th>\n      <th>weight</th>\n      <th>acceleration</th>\n      <th>year</th>\n      <th>origin</th>\n    </tr>\n    <tr>\n      <th>name</th>\n      <th></th>\n      <th></th>\n      <th></th>\n      <th></th>\n      <th></th>\n      <th></th>\n      <th></th>\n      <th></th>\n    </tr>\n  </thead>\n  <tbody>\n    <tr>\n      <th>amc rebel sst</th>\n      <td>16.0</td>\n      <td>8</td>\n      <td>304.0</td>\n      <td>150.0</td>\n      <td>3433</td>\n      <td>12.0</td>\n      <td>70</td>\n      <td>1</td>\n    </tr>\n    <tr>\n      <th>ford torino</th>\n      <td>17.0</td>\n      <td>8</td>\n      <td>302.0</td>\n      <td>140.0</td>\n      <td>3449</td>\n      <td>10.5</td>\n      <td>70</td>\n      <td>1</td>\n    </tr>\n  </tbody>\n</table>\n</div>"
          },
          "metadata": {}
        }
      ]
    },
    {
      "cell_type": "code",
      "source": "# to retrive using the row number we use .iloc\nAuto.iloc[[3,4]]",
      "metadata": {
        "trusted": true
      },
      "execution_count": 42,
      "outputs": [
        {
          "execution_count": 42,
          "output_type": "execute_result",
          "data": {
            "text/plain": "    mpg  cylinders  displacement  horsepower  weight  acceleration  year  \\\n3  16.0          8         304.0       150.0    3433          12.0    70   \n4  17.0          8         302.0       140.0    3449          10.5    70   \n\n   origin           name  \n3       1  amc rebel sst  \n4       1    ford torino  ",
            "text/html": "<div>\n<style scoped>\n    .dataframe tbody tr th:only-of-type {\n        vertical-align: middle;\n    }\n\n    .dataframe tbody tr th {\n        vertical-align: top;\n    }\n\n    .dataframe thead th {\n        text-align: right;\n    }\n</style>\n<table border=\"1\" class=\"dataframe\">\n  <thead>\n    <tr style=\"text-align: right;\">\n      <th></th>\n      <th>mpg</th>\n      <th>cylinders</th>\n      <th>displacement</th>\n      <th>horsepower</th>\n      <th>weight</th>\n      <th>acceleration</th>\n      <th>year</th>\n      <th>origin</th>\n      <th>name</th>\n    </tr>\n  </thead>\n  <tbody>\n    <tr>\n      <th>3</th>\n      <td>16.0</td>\n      <td>8</td>\n      <td>304.0</td>\n      <td>150.0</td>\n      <td>3433</td>\n      <td>12.0</td>\n      <td>70</td>\n      <td>1</td>\n      <td>amc rebel sst</td>\n    </tr>\n    <tr>\n      <th>4</th>\n      <td>17.0</td>\n      <td>8</td>\n      <td>302.0</td>\n      <td>140.0</td>\n      <td>3449</td>\n      <td>10.5</td>\n      <td>70</td>\n      <td>1</td>\n      <td>ford torino</td>\n    </tr>\n  </tbody>\n</table>\n</div>"
          },
          "metadata": {}
        }
      ]
    },
    {
      "cell_type": "code",
      "source": "#and we can also retrive more specific cells\nAuto_re.iloc[[3,4],[0,2,3]]",
      "metadata": {
        "trusted": true
      },
      "execution_count": 44,
      "outputs": [
        {
          "execution_count": 44,
          "output_type": "execute_result",
          "data": {
            "text/plain": "                mpg  displacement  horsepower\nname                                         \namc rebel sst  16.0         304.0       150.0\nford torino    17.0         302.0       140.0",
            "text/html": "<div>\n<style scoped>\n    .dataframe tbody tr th:only-of-type {\n        vertical-align: middle;\n    }\n\n    .dataframe tbody tr th {\n        vertical-align: top;\n    }\n\n    .dataframe thead th {\n        text-align: right;\n    }\n</style>\n<table border=\"1\" class=\"dataframe\">\n  <thead>\n    <tr style=\"text-align: right;\">\n      <th></th>\n      <th>mpg</th>\n      <th>displacement</th>\n      <th>horsepower</th>\n    </tr>\n    <tr>\n      <th>name</th>\n      <th></th>\n      <th></th>\n      <th></th>\n    </tr>\n  </thead>\n  <tbody>\n    <tr>\n      <th>amc rebel sst</th>\n      <td>16.0</td>\n      <td>304.0</td>\n      <td>150.0</td>\n    </tr>\n    <tr>\n      <th>ford torino</th>\n      <td>17.0</td>\n      <td>302.0</td>\n      <td>140.0</td>\n    </tr>\n  </tbody>\n</table>\n</div>"
          },
          "metadata": {}
        }
      ]
    },
    {
      "cell_type": "code",
      "source": "#make sure the index is unique for each row, in this example theres a couple rows with the same name\nAuto_re.loc[['ford galaxie 500'], ['mpg','origin']]",
      "metadata": {
        "trusted": true
      },
      "execution_count": 45,
      "outputs": [
        {
          "execution_count": 45,
          "output_type": "execute_result",
          "data": {
            "text/plain": "                   mpg  origin\nname                          \nford galaxie 500  15.0       1\nford galaxie 500  14.0       1\nford galaxie 500  14.0       1",
            "text/html": "<div>\n<style scoped>\n    .dataframe tbody tr th:only-of-type {\n        vertical-align: middle;\n    }\n\n    .dataframe tbody tr th {\n        vertical-align: top;\n    }\n\n    .dataframe thead th {\n        text-align: right;\n    }\n</style>\n<table border=\"1\" class=\"dataframe\">\n  <thead>\n    <tr style=\"text-align: right;\">\n      <th></th>\n      <th>mpg</th>\n      <th>origin</th>\n    </tr>\n    <tr>\n      <th>name</th>\n      <th></th>\n      <th></th>\n    </tr>\n  </thead>\n  <tbody>\n    <tr>\n      <th>ford galaxie 500</th>\n      <td>15.0</td>\n      <td>1</td>\n    </tr>\n    <tr>\n      <th>ford galaxie 500</th>\n      <td>14.0</td>\n      <td>1</td>\n    </tr>\n    <tr>\n      <th>ford galaxie 500</th>\n      <td>14.0</td>\n      <td>1</td>\n    </tr>\n  </tbody>\n</table>\n</div>"
          },
          "metadata": {}
        }
      ]
    },
    {
      "cell_type": "markdown",
      "source": "Subseting the dataframe",
      "metadata": {}
    },
    {
      "cell_type": "code",
      "source": "idx_80 = Auto_re['year'] > 80\nAuto_re.loc[idx_80, ['weight', 'origin']].head()",
      "metadata": {
        "trusted": true
      },
      "execution_count": 50,
      "outputs": [
        {
          "execution_count": 50,
          "output_type": "execute_result",
          "data": {
            "text/plain": "                        weight  origin\nname                                  \nplymouth reliant          2490       1\nbuick skylark             2635       1\ndodge aries wagon (sw)    2620       1\nchevrolet citation        2725       1\nplymouth reliant          2385       1",
            "text/html": "<div>\n<style scoped>\n    .dataframe tbody tr th:only-of-type {\n        vertical-align: middle;\n    }\n\n    .dataframe tbody tr th {\n        vertical-align: top;\n    }\n\n    .dataframe thead th {\n        text-align: right;\n    }\n</style>\n<table border=\"1\" class=\"dataframe\">\n  <thead>\n    <tr style=\"text-align: right;\">\n      <th></th>\n      <th>weight</th>\n      <th>origin</th>\n    </tr>\n    <tr>\n      <th>name</th>\n      <th></th>\n      <th></th>\n    </tr>\n  </thead>\n  <tbody>\n    <tr>\n      <th>plymouth reliant</th>\n      <td>2490</td>\n      <td>1</td>\n    </tr>\n    <tr>\n      <th>buick skylark</th>\n      <td>2635</td>\n      <td>1</td>\n    </tr>\n    <tr>\n      <th>dodge aries wagon (sw)</th>\n      <td>2620</td>\n      <td>1</td>\n    </tr>\n    <tr>\n      <th>chevrolet citation</th>\n      <td>2725</td>\n      <td>1</td>\n    </tr>\n    <tr>\n      <th>plymouth reliant</th>\n      <td>2385</td>\n      <td>1</td>\n    </tr>\n  </tbody>\n</table>\n</div>"
          },
          "metadata": {}
        }
      ]
    },
    {
      "cell_type": "code",
      "source": "#we can also create an anonymus function lamda to achieve the same\nAuto_re.loc[lambda df: df['year'] > 80 , ['weight','origin']].head() #since lanbda was created inside the dataframe, the dataframe becomes the variable df",
      "metadata": {
        "trusted": true
      },
      "execution_count": 52,
      "outputs": [
        {
          "execution_count": 52,
          "output_type": "execute_result",
          "data": {
            "text/plain": "                        weight  origin\nname                                  \nplymouth reliant          2490       1\nbuick skylark             2635       1\ndodge aries wagon (sw)    2620       1\nchevrolet citation        2725       1\nplymouth reliant          2385       1",
            "text/html": "<div>\n<style scoped>\n    .dataframe tbody tr th:only-of-type {\n        vertical-align: middle;\n    }\n\n    .dataframe tbody tr th {\n        vertical-align: top;\n    }\n\n    .dataframe thead th {\n        text-align: right;\n    }\n</style>\n<table border=\"1\" class=\"dataframe\">\n  <thead>\n    <tr style=\"text-align: right;\">\n      <th></th>\n      <th>weight</th>\n      <th>origin</th>\n    </tr>\n    <tr>\n      <th>name</th>\n      <th></th>\n      <th></th>\n    </tr>\n  </thead>\n  <tbody>\n    <tr>\n      <th>plymouth reliant</th>\n      <td>2490</td>\n      <td>1</td>\n    </tr>\n    <tr>\n      <th>buick skylark</th>\n      <td>2635</td>\n      <td>1</td>\n    </tr>\n    <tr>\n      <th>dodge aries wagon (sw)</th>\n      <td>2620</td>\n      <td>1</td>\n    </tr>\n    <tr>\n      <th>chevrolet citation</th>\n      <td>2725</td>\n      <td>1</td>\n    </tr>\n    <tr>\n      <th>plymouth reliant</th>\n      <td>2385</td>\n      <td>1</td>\n    </tr>\n  </tbody>\n</table>\n</div>"
          },
          "metadata": {}
        }
      ]
    },
    {
      "cell_type": "code",
      "source": "#another example\nAuto_re.loc[lambda df: (df['year'] > 80) & (df['mpg'] >30), ['weight','origin']]",
      "metadata": {
        "trusted": true
      },
      "execution_count": 54,
      "outputs": [
        {
          "execution_count": 54,
          "output_type": "execute_result",
          "data": {
            "text/plain": "                                   weight  origin\nname                                             \ntoyota starlet                       1755       3\nplymouth champ                       1875       1\nhonda civic 1300                     1760       3\nsubaru                               2065       3\ndatsun 210 mpg                       1975       3\ntoyota tercel                        2050       3\nmazda glc 4                          1985       3\nplymouth horizon 4                   2215       1\nford escort 4w                       2045       1\nvolkswagen jetta                     2190       2\nhonda prelude                        2210       3\ntoyota corolla                       2350       3\ndatsun 200sx                         2615       3\nmazda 626                            2635       3\nvolvo diesel                         3160       2\nchevrolet cavalier 2-door            2395       1\npontiac j2000 se hatchback           2575       1\nvolkswagen rabbit l                  1980       2\nmazda glc custom l                   2025       3\nmazda glc custom                     1970       3\nplymouth horizon miser               2125       1\nmercury lynx l                       2125       1\nnissan stanza xe                     2160       3\nhonda accord                         2205       3\ntoyota corolla                       2245       3\nhonda civic                          1965       3\nhonda civic (auto)                   1965       3\ndatsun 310 gx                        1995       3\noldsmobile cutlass ciera (diesel)    3015       1\ntoyota celica gt                     2665       3\ndodge charger 2.2                    2370       1\nvw pickup                            2130       2\ndodge rampage                        2295       1\nchevy s-10                           2720       1",
            "text/html": "<div>\n<style scoped>\n    .dataframe tbody tr th:only-of-type {\n        vertical-align: middle;\n    }\n\n    .dataframe tbody tr th {\n        vertical-align: top;\n    }\n\n    .dataframe thead th {\n        text-align: right;\n    }\n</style>\n<table border=\"1\" class=\"dataframe\">\n  <thead>\n    <tr style=\"text-align: right;\">\n      <th></th>\n      <th>weight</th>\n      <th>origin</th>\n    </tr>\n    <tr>\n      <th>name</th>\n      <th></th>\n      <th></th>\n    </tr>\n  </thead>\n  <tbody>\n    <tr>\n      <th>toyota starlet</th>\n      <td>1755</td>\n      <td>3</td>\n    </tr>\n    <tr>\n      <th>plymouth champ</th>\n      <td>1875</td>\n      <td>1</td>\n    </tr>\n    <tr>\n      <th>honda civic 1300</th>\n      <td>1760</td>\n      <td>3</td>\n    </tr>\n    <tr>\n      <th>subaru</th>\n      <td>2065</td>\n      <td>3</td>\n    </tr>\n    <tr>\n      <th>datsun 210 mpg</th>\n      <td>1975</td>\n      <td>3</td>\n    </tr>\n    <tr>\n      <th>toyota tercel</th>\n      <td>2050</td>\n      <td>3</td>\n    </tr>\n    <tr>\n      <th>mazda glc 4</th>\n      <td>1985</td>\n      <td>3</td>\n    </tr>\n    <tr>\n      <th>plymouth horizon 4</th>\n      <td>2215</td>\n      <td>1</td>\n    </tr>\n    <tr>\n      <th>ford escort 4w</th>\n      <td>2045</td>\n      <td>1</td>\n    </tr>\n    <tr>\n      <th>volkswagen jetta</th>\n      <td>2190</td>\n      <td>2</td>\n    </tr>\n    <tr>\n      <th>honda prelude</th>\n      <td>2210</td>\n      <td>3</td>\n    </tr>\n    <tr>\n      <th>toyota corolla</th>\n      <td>2350</td>\n      <td>3</td>\n    </tr>\n    <tr>\n      <th>datsun 200sx</th>\n      <td>2615</td>\n      <td>3</td>\n    </tr>\n    <tr>\n      <th>mazda 626</th>\n      <td>2635</td>\n      <td>3</td>\n    </tr>\n    <tr>\n      <th>volvo diesel</th>\n      <td>3160</td>\n      <td>2</td>\n    </tr>\n    <tr>\n      <th>chevrolet cavalier 2-door</th>\n      <td>2395</td>\n      <td>1</td>\n    </tr>\n    <tr>\n      <th>pontiac j2000 se hatchback</th>\n      <td>2575</td>\n      <td>1</td>\n    </tr>\n    <tr>\n      <th>volkswagen rabbit l</th>\n      <td>1980</td>\n      <td>2</td>\n    </tr>\n    <tr>\n      <th>mazda glc custom l</th>\n      <td>2025</td>\n      <td>3</td>\n    </tr>\n    <tr>\n      <th>mazda glc custom</th>\n      <td>1970</td>\n      <td>3</td>\n    </tr>\n    <tr>\n      <th>plymouth horizon miser</th>\n      <td>2125</td>\n      <td>1</td>\n    </tr>\n    <tr>\n      <th>mercury lynx l</th>\n      <td>2125</td>\n      <td>1</td>\n    </tr>\n    <tr>\n      <th>nissan stanza xe</th>\n      <td>2160</td>\n      <td>3</td>\n    </tr>\n    <tr>\n      <th>honda accord</th>\n      <td>2205</td>\n      <td>3</td>\n    </tr>\n    <tr>\n      <th>toyota corolla</th>\n      <td>2245</td>\n      <td>3</td>\n    </tr>\n    <tr>\n      <th>honda civic</th>\n      <td>1965</td>\n      <td>3</td>\n    </tr>\n    <tr>\n      <th>honda civic (auto)</th>\n      <td>1965</td>\n      <td>3</td>\n    </tr>\n    <tr>\n      <th>datsun 310 gx</th>\n      <td>1995</td>\n      <td>3</td>\n    </tr>\n    <tr>\n      <th>oldsmobile cutlass ciera (diesel)</th>\n      <td>3015</td>\n      <td>1</td>\n    </tr>\n    <tr>\n      <th>toyota celica gt</th>\n      <td>2665</td>\n      <td>3</td>\n    </tr>\n    <tr>\n      <th>dodge charger 2.2</th>\n      <td>2370</td>\n      <td>1</td>\n    </tr>\n    <tr>\n      <th>vw pickup</th>\n      <td>2130</td>\n      <td>2</td>\n    </tr>\n    <tr>\n      <th>dodge rampage</th>\n      <td>2295</td>\n      <td>1</td>\n    </tr>\n    <tr>\n      <th>chevy s-10</th>\n      <td>2720</td>\n      <td>1</td>\n    </tr>\n  </tbody>\n</table>\n</div>"
          },
          "metadata": {}
        }
      ]
    },
    {
      "cell_type": "code",
      "source": "# we can also check for strings with specific content\nAuto_re.loc[lambda df: (df['displacement'] < 300) & (df.index.str.contains('ford') | df.index.str.contains('datsun')),\n            ['weight','origin']]\n                        ",
      "metadata": {
        "trusted": true
      },
      "execution_count": 58,
      "outputs": [
        {
          "execution_count": 58,
          "output_type": "execute_result",
          "data": {
            "text/plain": "                       weight  origin\nname                                 \nford maverick            2587       1\ndatsun pl510             2130       3\ndatsun pl510             2130       3\nford torino 500          3302       1\nford mustang             3139       1\ndatsun 1200              1613       3\nford pinto runabout      2226       1\nford pinto (sw)          2395       1\ndatsun 510 (sw)          2288       3\nford maverick            3021       1\ndatsun 610               2379       3\nford pinto               2310       1\ndatsun b210              1950       3\nford pinto               2451       1\ndatsun 710               2003       3\nford maverick            3158       1\nford pinto               2639       1\ndatsun 710               2545       3\nford pinto               2984       1\nford maverick            3012       1\nford granada ghia        3574       1\ndatsun b-210             1990       3\nford pinto               2565       1\ndatsun f-10 hatchback    1945       3\nford granada             3525       1\nford mustang ii 2+2      2755       1\ndatsun 810               2815       3\nford fiesta              1800       1\ndatsun b210 gx           2070       3\nford fairmont (auto)     2965       1\nford fairmont (man)      2720       1\ndatsun 510               2300       3\ndatsun 200-sx            2405       3\nford fairmont 4          2890       1\ndatsun 210               2020       3\ndatsun 310               2019       3\nford fairmont            2870       1\ndatsun 510 hatchback     2434       3\ndatsun 210               2110       3\ndatsun 280-zx            2910       3\ndatsun 210 mpg           1975       3\nford escort 4w           2045       1\nford escort 2h           2380       1\ndatsun 200sx             2615       3\ndatsun 810 maxima        2930       3\nford granada gl          3060       1\nford fairmont futura     2865       1\ndatsun 310 gx            1995       3\nford granada l           2835       1\nford mustang gl          2790       1\nford ranger              2625       1",
            "text/html": "<div>\n<style scoped>\n    .dataframe tbody tr th:only-of-type {\n        vertical-align: middle;\n    }\n\n    .dataframe tbody tr th {\n        vertical-align: top;\n    }\n\n    .dataframe thead th {\n        text-align: right;\n    }\n</style>\n<table border=\"1\" class=\"dataframe\">\n  <thead>\n    <tr style=\"text-align: right;\">\n      <th></th>\n      <th>weight</th>\n      <th>origin</th>\n    </tr>\n    <tr>\n      <th>name</th>\n      <th></th>\n      <th></th>\n    </tr>\n  </thead>\n  <tbody>\n    <tr>\n      <th>ford maverick</th>\n      <td>2587</td>\n      <td>1</td>\n    </tr>\n    <tr>\n      <th>datsun pl510</th>\n      <td>2130</td>\n      <td>3</td>\n    </tr>\n    <tr>\n      <th>datsun pl510</th>\n      <td>2130</td>\n      <td>3</td>\n    </tr>\n    <tr>\n      <th>ford torino 500</th>\n      <td>3302</td>\n      <td>1</td>\n    </tr>\n    <tr>\n      <th>ford mustang</th>\n      <td>3139</td>\n      <td>1</td>\n    </tr>\n    <tr>\n      <th>datsun 1200</th>\n      <td>1613</td>\n      <td>3</td>\n    </tr>\n    <tr>\n      <th>ford pinto runabout</th>\n      <td>2226</td>\n      <td>1</td>\n    </tr>\n    <tr>\n      <th>ford pinto (sw)</th>\n      <td>2395</td>\n      <td>1</td>\n    </tr>\n    <tr>\n      <th>datsun 510 (sw)</th>\n      <td>2288</td>\n      <td>3</td>\n    </tr>\n    <tr>\n      <th>ford maverick</th>\n      <td>3021</td>\n      <td>1</td>\n    </tr>\n    <tr>\n      <th>datsun 610</th>\n      <td>2379</td>\n      <td>3</td>\n    </tr>\n    <tr>\n      <th>ford pinto</th>\n      <td>2310</td>\n      <td>1</td>\n    </tr>\n    <tr>\n      <th>datsun b210</th>\n      <td>1950</td>\n      <td>3</td>\n    </tr>\n    <tr>\n      <th>ford pinto</th>\n      <td>2451</td>\n      <td>1</td>\n    </tr>\n    <tr>\n      <th>datsun 710</th>\n      <td>2003</td>\n      <td>3</td>\n    </tr>\n    <tr>\n      <th>ford maverick</th>\n      <td>3158</td>\n      <td>1</td>\n    </tr>\n    <tr>\n      <th>ford pinto</th>\n      <td>2639</td>\n      <td>1</td>\n    </tr>\n    <tr>\n      <th>datsun 710</th>\n      <td>2545</td>\n      <td>3</td>\n    </tr>\n    <tr>\n      <th>ford pinto</th>\n      <td>2984</td>\n      <td>1</td>\n    </tr>\n    <tr>\n      <th>ford maverick</th>\n      <td>3012</td>\n      <td>1</td>\n    </tr>\n    <tr>\n      <th>ford granada ghia</th>\n      <td>3574</td>\n      <td>1</td>\n    </tr>\n    <tr>\n      <th>datsun b-210</th>\n      <td>1990</td>\n      <td>3</td>\n    </tr>\n    <tr>\n      <th>ford pinto</th>\n      <td>2565</td>\n      <td>1</td>\n    </tr>\n    <tr>\n      <th>datsun f-10 hatchback</th>\n      <td>1945</td>\n      <td>3</td>\n    </tr>\n    <tr>\n      <th>ford granada</th>\n      <td>3525</td>\n      <td>1</td>\n    </tr>\n    <tr>\n      <th>ford mustang ii 2+2</th>\n      <td>2755</td>\n      <td>1</td>\n    </tr>\n    <tr>\n      <th>datsun 810</th>\n      <td>2815</td>\n      <td>3</td>\n    </tr>\n    <tr>\n      <th>ford fiesta</th>\n      <td>1800</td>\n      <td>1</td>\n    </tr>\n    <tr>\n      <th>datsun b210 gx</th>\n      <td>2070</td>\n      <td>3</td>\n    </tr>\n    <tr>\n      <th>ford fairmont (auto)</th>\n      <td>2965</td>\n      <td>1</td>\n    </tr>\n    <tr>\n      <th>ford fairmont (man)</th>\n      <td>2720</td>\n      <td>1</td>\n    </tr>\n    <tr>\n      <th>datsun 510</th>\n      <td>2300</td>\n      <td>3</td>\n    </tr>\n    <tr>\n      <th>datsun 200-sx</th>\n      <td>2405</td>\n      <td>3</td>\n    </tr>\n    <tr>\n      <th>ford fairmont 4</th>\n      <td>2890</td>\n      <td>1</td>\n    </tr>\n    <tr>\n      <th>datsun 210</th>\n      <td>2020</td>\n      <td>3</td>\n    </tr>\n    <tr>\n      <th>datsun 310</th>\n      <td>2019</td>\n      <td>3</td>\n    </tr>\n    <tr>\n      <th>ford fairmont</th>\n      <td>2870</td>\n      <td>1</td>\n    </tr>\n    <tr>\n      <th>datsun 510 hatchback</th>\n      <td>2434</td>\n      <td>3</td>\n    </tr>\n    <tr>\n      <th>datsun 210</th>\n      <td>2110</td>\n      <td>3</td>\n    </tr>\n    <tr>\n      <th>datsun 280-zx</th>\n      <td>2910</td>\n      <td>3</td>\n    </tr>\n    <tr>\n      <th>datsun 210 mpg</th>\n      <td>1975</td>\n      <td>3</td>\n    </tr>\n    <tr>\n      <th>ford escort 4w</th>\n      <td>2045</td>\n      <td>1</td>\n    </tr>\n    <tr>\n      <th>ford escort 2h</th>\n      <td>2380</td>\n      <td>1</td>\n    </tr>\n    <tr>\n      <th>datsun 200sx</th>\n      <td>2615</td>\n      <td>3</td>\n    </tr>\n    <tr>\n      <th>datsun 810 maxima</th>\n      <td>2930</td>\n      <td>3</td>\n    </tr>\n    <tr>\n      <th>ford granada gl</th>\n      <td>3060</td>\n      <td>1</td>\n    </tr>\n    <tr>\n      <th>ford fairmont futura</th>\n      <td>2865</td>\n      <td>1</td>\n    </tr>\n    <tr>\n      <th>datsun 310 gx</th>\n      <td>1995</td>\n      <td>3</td>\n    </tr>\n    <tr>\n      <th>ford granada l</th>\n      <td>2835</td>\n      <td>1</td>\n    </tr>\n    <tr>\n      <th>ford mustang gl</th>\n      <td>2790</td>\n      <td>1</td>\n    </tr>\n    <tr>\n      <th>ford ranger</th>\n      <td>2625</td>\n      <td>1</td>\n    </tr>\n  </tbody>\n</table>\n</div>"
          },
          "metadata": {}
        }
      ]
    },
    {
      "cell_type": "code",
      "source": "",
      "metadata": {},
      "execution_count": null,
      "outputs": []
    }
  ]
}