{
  "metadata": {
    "language_info": {
      "codemirror_mode": {
        "name": "python",
        "version": 3
      },
      "file_extension": ".py",
      "mimetype": "text/x-python",
      "name": "python",
      "nbconvert_exporter": "python",
      "pygments_lexer": "ipython3",
      "version": "3.8"
    },
    "kernelspec": {
      "name": "python",
      "display_name": "Python (Pyodide)",
      "language": "python"
    }
  },
  "nbformat_minor": 4,
  "nbformat": 4,
  "cells": [
    {
      "cell_type": "markdown",
      "source": "ISLP Chapter 2.3 - Introduction to python",
      "metadata": {}
    },
    {
      "cell_type": "code",
      "source": "import numpy as np\nimport pandas as pd\nimport matplotlib",
      "metadata": {
        "trusted": true
      },
      "execution_count": 1,
      "outputs": []
    },
    {
      "cell_type": "markdown",
      "source": "Numpy Functions",
      "metadata": {}
    },
    {
      "cell_type": "code",
      "source": "#creating arrays (vectors)\nx = np.array([3,4,5])\ny = np.array([4,9,7])",
      "metadata": {
        "trusted": true
      },
      "execution_count": 2,
      "outputs": []
    },
    {
      "cell_type": "code",
      "source": "x + y",
      "metadata": {
        "trusted": true
      },
      "execution_count": 3,
      "outputs": [
        {
          "execution_count": 3,
          "output_type": "execute_result",
          "data": {
            "text/plain": "array([ 7, 13, 12])"
          },
          "metadata": {}
        }
      ]
    },
    {
      "cell_type": "code",
      "source": "#create array (matrix)\nx = np.array([[1,2],[3,4]])\nx",
      "metadata": {
        "trusted": true
      },
      "execution_count": 4,
      "outputs": [
        {
          "execution_count": 4,
          "output_type": "execute_result",
          "data": {
            "text/plain": "array([[1, 2],\n       [3, 4]])"
          },
          "metadata": {}
        }
      ]
    },
    {
      "cell_type": "code",
      "source": "#show dimensions of the array\nx.ndim",
      "metadata": {
        "trusted": true
      },
      "execution_count": 5,
      "outputs": [
        {
          "execution_count": 5,
          "output_type": "execute_result",
          "data": {
            "text/plain": "2"
          },
          "metadata": {}
        }
      ]
    },
    {
      "cell_type": "code",
      "source": "#show type of variables in it\nx.dtype",
      "metadata": {
        "trusted": true
      },
      "execution_count": 6,
      "outputs": [
        {
          "execution_count": 6,
          "output_type": "execute_result",
          "data": {
            "text/plain": "dtype('int32')"
          },
          "metadata": {}
        }
      ]
    },
    {
      "cell_type": "code",
      "source": "#matrix shape\nx.shape",
      "metadata": {
        "trusted": true
      },
      "execution_count": 7,
      "outputs": [
        {
          "execution_count": 7,
          "output_type": "execute_result",
          "data": {
            "text/plain": "(2, 2)"
          },
          "metadata": {}
        }
      ]
    },
    {
      "cell_type": "code",
      "source": "#sum values inside of array\nx = np.array([1,2,3,4])\nx.sum() # can also use np.sum(x)",
      "metadata": {
        "trusted": true
      },
      "execution_count": 8,
      "outputs": [
        {
          "execution_count": 8,
          "output_type": "execute_result",
          "data": {
            "text/plain": "10"
          },
          "metadata": {}
        }
      ]
    },
    {
      "cell_type": "code",
      "source": "# we can turn a vecotr into a matrix with reshape()\nx = np.array([1,2,3,4,5,6])\nprint('original x \\n', x)\nx_reshape = x.reshape((2,3))\nprint('after reshape \\n' , x_reshape)",
      "metadata": {
        "trusted": true
      },
      "execution_count": 9,
      "outputs": [
        {
          "name": "stdout",
          "text": "original x \n [1 2 3 4 5 6]\nafter reshape \n [[1 2 3]\n [4 5 6]]\n",
          "output_type": "stream"
        }
      ]
    },
    {
      "cell_type": "code",
      "source": "#accesing elemnts in an array, remember python counts from 0\nprint(x_reshape[0,0])\nprint(x_reshape[1,2])\nprint(x[5])",
      "metadata": {
        "trusted": true
      },
      "execution_count": 10,
      "outputs": [
        {
          "name": "stdout",
          "text": "1\n6\n6\n",
          "output_type": "stream"
        }
      ]
    },
    {
      "cell_type": "code",
      "source": "x_reshape[1,2]",
      "metadata": {
        "trusted": true
      },
      "execution_count": 11,
      "outputs": [
        {
          "execution_count": 11,
          "output_type": "execute_result",
          "data": {
            "text/plain": "6"
          },
          "metadata": {}
        }
      ]
    },
    {
      "cell_type": "code",
      "source": "#x and its reshape are linked, change one and you change both\nprint('x before we modify x_reshape \\n', x)\nprint('x_reshape before we modify x_reshape \\n', x_reshape)\nx_reshape[0,0] = 5\nprint('x_reshape after we modify first element \\n', x_reshape)\nprint('x aftere we modify x_reshape \\n', x)\n",
      "metadata": {
        "trusted": true
      },
      "execution_count": 12,
      "outputs": [
        {
          "name": "stdout",
          "text": "x before we modify x_reshape \n [1 2 3 4 5 6]\nx_reshape before we modify x_reshape \n [[1 2 3]\n [4 5 6]]\nx_reshape after we modify first element \n [[5 2 3]\n [4 5 6]]\nx aftere we modify x_reshape \n [5 2 3 4 5 6]\n",
          "output_type": "stream"
        }
      ]
    },
    {
      "cell_type": "code",
      "source": "#some atributes - shape, number of dimension , and transpose\nx_reshape.shape, x_reshape.ndim, x_reshape.T",
      "metadata": {
        "trusted": true
      },
      "execution_count": 13,
      "outputs": [
        {
          "execution_count": 13,
          "output_type": "execute_result",
          "data": {
            "text/plain": "((2, 3),\n 2,\n array([[5, 4],\n        [2, 5],\n        [3, 6]]))"
          },
          "metadata": {}
        }
      ]
    },
    {
      "cell_type": "code",
      "source": "#some functions\nnp.sqrt(x), x**0.5 , x**2",
      "metadata": {
        "trusted": true
      },
      "execution_count": 14,
      "outputs": [
        {
          "execution_count": 14,
          "output_type": "execute_result",
          "data": {
            "text/plain": "(array([2.23606798, 1.41421356, 1.73205081, 2.        , 2.23606798,\n        2.44948974]),\n array([2.23606798, 1.41421356, 1.73205081, 2.        , 2.23606798,\n        2.44948974]),\n array([25,  4,  9, 16, 25, 36]))"
          },
          "metadata": {}
        }
      ]
    },
    {
      "cell_type": "code",
      "source": "#generating normaly distributed values , default is N(0,1) - np.random.normal(loc=0, scale = 1, size = 1)\nx = np.random.normal(size = 50)\nx",
      "metadata": {
        "trusted": true
      },
      "execution_count": 15,
      "outputs": [
        {
          "execution_count": 15,
          "output_type": "execute_result",
          "data": {
            "text/plain": "array([-0.91243483, -0.6200402 ,  1.88876477,  0.73239581,  0.49260427,\n       -0.21554412, -0.65520007, -0.58360002, -0.67064086, -0.70663215,\n       -0.23842224,  1.30122919, -0.68936532,  0.50831479,  1.80142735,\n       -0.37621224,  1.31438719,  1.09658992, -1.11784151, -0.16838413,\n       -1.21231255,  1.32633314, -1.8454316 ,  0.61826484, -0.69622274,\n       -0.46055483,  0.6063124 ,  1.94169641,  1.19510995, -0.07870417,\n       -1.94289092,  0.28988567, -1.36905257,  1.00343438, -0.89939599,\n        0.91792411, -2.03570765, -1.05301073,  1.29383598,  0.16076543,\n        0.64458103,  0.85805445,  0.66881265, -0.45395056,  2.23350851,\n        0.3665143 ,  0.76600568, -0.24556321, -0.08540149,  0.46626016])"
          },
          "metadata": {}
        }
      ]
    },
    {
      "cell_type": "code",
      "source": "#We can also add random ammounts to each element\ny = x + np.random.normal(loc = 50, scale = 1 , size = 50)",
      "metadata": {
        "trusted": true
      },
      "execution_count": 16,
      "outputs": []
    },
    {
      "cell_type": "code",
      "source": "#Numpy has a matrix correlation function\nnp.corrcoef(x,y)",
      "metadata": {
        "trusted": true
      },
      "execution_count": 17,
      "outputs": [
        {
          "execution_count": 17,
          "output_type": "execute_result",
          "data": {
            "text/plain": "array([[1.        , 0.72854386],\n       [0.72854386, 1.        ]])"
          },
          "metadata": {}
        }
      ]
    },
    {
      "cell_type": "code",
      "source": "#to maintain consistency when reruning the program we can set a seed for the random generator\nrng = np.random.default_rng(1303)\nprint(rng.normal(scale = 5 , size = 2))\nrng2 = np.random.default_rng(1303)\nprint(rng2.normal(scale = 5, size = 2))",
      "metadata": {
        "trusted": true
      },
      "execution_count": 18,
      "outputs": [
        {
          "name": "stdout",
          "text": "[ 4.09482632 -1.07485605]\n[ 4.09482632 -1.07485605]\n",
          "output_type": "stream"
        }
      ]
    },
    {
      "cell_type": "code",
      "source": "# we can use the folowing to obtain the mean, variance and standard deviation of an array\nnp.mean(y), np.var(y), np.std(y)",
      "metadata": {
        "trusted": true
      },
      "execution_count": 19,
      "outputs": [
        {
          "execution_count": 19,
          "output_type": "execute_result",
          "data": {
            "text/plain": "(50.22993128448904, 2.091310044661633, 1.446136246921995)"
          },
          "metadata": {}
        }
      ]
    },
    {
      "cell_type": "code",
      "source": "#We can also apply it to the rows or columns individually with axis\nX = rng.standard_normal((10,3))\nprint(X)\nprint(' mean by column is' , X.mean(axis=0))\nprint(' mean by row is' , X.mean(axis=1))",
      "metadata": {
        "trusted": true
      },
      "execution_count": 20,
      "outputs": [
        {
          "name": "stdout",
          "text": "[[-2.03072919  0.22681229 -0.82806113]\n [-0.94971965  0.09748025  1.13071035]\n [-0.503177   -1.6146684  -0.51143783]\n [ 1.30857567 -0.60106271 -1.04358358]\n [-0.77787108 -0.03621124 -2.366124  ]\n [-0.12532525 -1.04473968 -0.46412883]\n [ 0.33555586 -0.11933931 -0.19707608]\n [-0.35307465  0.09562671  0.83201011]\n [ 1.78919398 -3.25891725  1.06043415]\n [-0.69168156 -1.16488556  0.99099849]]\n mean by column is [-0.19982529 -0.74199049 -0.13962583]\n mean by row is [-0.87732601  0.09282365 -0.87642774 -0.11202354 -1.06006877 -0.54473125\n  0.00638016  0.19152072 -0.13642971 -0.28852288]\n",
          "output_type": "stream"
        }
      ]
    },
    {
      "cell_type": "code",
      "source": "# we can also get the mean as\nX.mean(0)",
      "metadata": {
        "trusted": true
      },
      "execution_count": 21,
      "outputs": [
        {
          "execution_count": 21,
          "output_type": "execute_result",
          "data": {
            "text/plain": "array([-0.19982529, -0.74199049, -0.13962583])"
          },
          "metadata": {}
        }
      ]
    },
    {
      "cell_type": "markdown",
      "source": "Sequences and SLice Notation",
      "metadata": {
        "tags": []
      }
    },
    {
      "cell_type": "code",
      "source": "# we can use np.linspace() to create a sequence\nseq1 = np.linspace(0,10,11)\nseq1",
      "metadata": {
        "trusted": true
      },
      "execution_count": 22,
      "outputs": [
        {
          "execution_count": 22,
          "output_type": "execute_result",
          "data": {
            "text/plain": "array([ 0.,  1.,  2.,  3.,  4.,  5.,  6.,  7.,  8.,  9., 10.])"
          },
          "metadata": {}
        }
      ]
    },
    {
      "cell_type": "code",
      "source": "#np.arange(a, b, step = 1) is similar but returns a sequence spaced out by a 'step', default is 1\nseq2 = np.arange(0,10)\nseq2",
      "metadata": {
        "trusted": true
      },
      "execution_count": 25,
      "outputs": [
        {
          "execution_count": 25,
          "output_type": "execute_result",
          "data": {
            "text/plain": "array([0, 1, 2, 3, 4, 5, 6, 7, 8, 9])"
          },
          "metadata": {}
        }
      ]
    },
    {
      "cell_type": "markdown",
      "source": "Notice that 10 is not in seq2, due to how slicing works in python",
      "metadata": {}
    },
    {
      "cell_type": "code",
      "source": "#we can slice our data using indexing notation [:]\n\"hello world\"[3:6] #[3:6] is shothand for slice(3,6)",
      "metadata": {
        "trusted": true
      },
      "execution_count": 29,
      "outputs": [
        {
          "execution_count": 29,
          "output_type": "execute_result",
          "data": {
            "text/plain": "'lo '"
          },
          "metadata": {}
        }
      ]
    },
    {
      "cell_type": "code",
      "source": "\"hello world\"[slice(3,6)] #this still doenst include the 7th character",
      "metadata": {
        "trusted": true
      },
      "execution_count": 30,
      "outputs": [
        {
          "execution_count": 30,
          "output_type": "execute_result",
          "data": {
            "text/plain": "'lo '"
          },
          "metadata": {}
        }
      ]
    },
    {
      "cell_type": "markdown",
      "source": "Indexing data",
      "metadata": {}
    },
    {
      "cell_type": "code",
      "source": "A = np.array(np.arange(16)).reshape((4,4))\nA",
      "metadata": {
        "trusted": true
      },
      "execution_count": 31,
      "outputs": [
        {
          "execution_count": 31,
          "output_type": "execute_result",
          "data": {
            "text/plain": "array([[ 0,  1,  2,  3],\n       [ 4,  5,  6,  7],\n       [ 8,  9, 10, 11],\n       [12, 13, 14, 15]])"
          },
          "metadata": {}
        }
      ]
    },
    {
      "cell_type": "code",
      "source": "A[1,2] #second row, third column, count from 0",
      "metadata": {
        "trusted": true
      },
      "execution_count": 33,
      "outputs": [
        {
          "execution_count": 33,
          "output_type": "execute_result",
          "data": {
            "text/plain": "6"
          },
          "metadata": {}
        }
      ]
    },
    {
      "cell_type": "code",
      "source": "#we can also index with a list\nA[[1,3]] #second and fourth row",
      "metadata": {
        "trusted": true
      },
      "execution_count": 35,
      "outputs": [
        {
          "execution_count": 35,
          "output_type": "execute_result",
          "data": {
            "text/plain": "array([[ 4,  5,  6,  7],\n       [12, 13, 14, 15]])"
          },
          "metadata": {}
        }
      ]
    },
    {
      "cell_type": "code",
      "source": "#to index columns we need to skip the first argument with :\nA[:,[0,2]]",
      "metadata": {
        "trusted": true
      },
      "execution_count": 36,
      "outputs": [
        {
          "execution_count": 36,
          "output_type": "execute_result",
          "data": {
            "text/plain": "array([[ 0,  2],\n       [ 4,  6],\n       [ 8, 10],\n       [12, 14]])"
          },
          "metadata": {}
        }
      ]
    },
    {
      "cell_type": "code",
      "source": "#it can get tricky tho, indexing like this doesnt allow us to extract specific columns and rows\nA[[1,3],[0,2]]",
      "metadata": {
        "trusted": true
      },
      "execution_count": 37,
      "outputs": [
        {
          "execution_count": 37,
          "output_type": "execute_result",
          "data": {
            "text/plain": "array([ 4, 14])"
          },
          "metadata": {}
        }
      ]
    },
    {
      "cell_type": "code",
      "source": "# to reach our goal  (second and fourth row and first and third column), we cna do it in 'steps'\nA[[1,3]][:,[0,2]] # first index the rows and then index the result to get the columns of those",
      "metadata": {
        "trusted": true
      },
      "execution_count": 38,
      "outputs": [
        {
          "execution_count": 38,
          "output_type": "execute_result",
          "data": {
            "text/plain": "array([[ 4,  6],\n       [12, 14]])"
          },
          "metadata": {}
        }
      ]
    },
    {
      "cell_type": "code",
      "source": "#np.ix_() helps extract a submatrix using lists wich can be more convenient\nidx = np.ix_([1,3],[0,2,3])\nA[idx]",
      "metadata": {
        "trusted": true
      },
      "execution_count": 39,
      "outputs": [
        {
          "execution_count": 39,
          "output_type": "execute_result",
          "data": {
            "text/plain": "array([[ 4,  6,  7],\n       [12, 14, 15]])"
          },
          "metadata": {}
        }
      ]
    },
    {
      "cell_type": "code",
      "source": "#alternatively we can use slices\nA[1:4:2,0:3:2]",
      "metadata": {
        "trusted": true
      },
      "execution_count": 40,
      "outputs": [
        {
          "execution_count": 40,
          "output_type": "execute_result",
          "data": {
            "text/plain": "array([[ 4,  6],\n       [12, 14]])"
          },
          "metadata": {}
        }
      ]
    },
    {
      "cell_type": "code",
      "source": "",
      "metadata": {},
      "execution_count": null,
      "outputs": []
    },
    {
      "cell_type": "code",
      "source": "",
      "metadata": {},
      "execution_count": null,
      "outputs": []
    }
  ]
}